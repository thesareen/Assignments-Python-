{
  "nbformat": 4,
  "nbformat_minor": 0,
  "metadata": {
    "colab": {
      "provenance": [],
      "authorship_tag": "ABX9TyNDvy2SU+KkzJ1qRDNKmiUz",
      "include_colab_link": true
    },
    "kernelspec": {
      "name": "python3",
      "display_name": "Python 3"
    },
    "language_info": {
      "name": "python"
    }
  },
  "cells": [
    {
      "cell_type": "markdown",
      "metadata": {
        "id": "view-in-github",
        "colab_type": "text"
      },
      "source": [
        "<a href=\"https://colab.research.google.com/github/thesareen/Thapar-Summer-School-23/blob/main/Challenger_Liza_pynb.ipynb\" target=\"_parent\"><img src=\"https://colab.research.google.com/assets/colab-badge.svg\" alt=\"Open In Colab\"/></a>"
      ]
    },
    {
      "cell_type": "code",
      "execution_count": null,
      "metadata": {
        "id": "Q4mqgnNWygvs"
      },
      "outputs": [],
      "source": [
        "#Write a python program to sort the list of heterogeneous data\n",
        "L=['siya',1,'jayani',2,'rekha',3]\n",
        "L1=[]\n",
        "L2=[]\n",
        "for i in range(0,len(L)):\n",
        "    if str(L[i]).isdigit():\n",
        "        L1.append(L[i])\n",
        "    else:\n",
        "        L2.append(L[i])\n",
        "print(L1)#integer list\n",
        "print(L2)#string list\n",
        "\n",
        "L1.sort()\n",
        "print(\"Sorted integer list: \",L1)\n",
        "L2.sort()\n",
        "print(\"sorted string list:\",L2)\n",
        "\n",
        "M=[]\n",
        "for n in L2:\n",
        "    M.extend(ord(i) for i in n)\n",
        "print(\"The ascii list is : \" + str(M))\n",
        "for i in range(0,len(M)):\n",
        "    L1.append(M[i])\n",
        "print(L1)\n",
        "print(L1)\n",
        "L1.sort()\n",
        "print(L1)\n",
        "#Above code gives error. Correct it\n",
        "L = [\"Ram\", 1, \"Shyam\", 2, \"Aman\", 3]\n",
        "print(L)\n",
        "try:\n",
        "  L.sort()\n",
        "  print(L)\n",
        "except:\n",
        "    print(\"Error found as it is not comparable\")\n",
        "    \n",
        "\n"
      ]
    }
  ]
}
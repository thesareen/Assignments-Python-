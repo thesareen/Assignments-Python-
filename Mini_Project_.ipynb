{
  "nbformat": 4,
  "nbformat_minor": 0,
  "metadata": {
    "colab": {
      "provenance": [],
      "authorship_tag": "ABX9TyP7I9JlY8TRc98Xwn5Iud+l",
      "include_colab_link": true
    },
    "kernelspec": {
      "name": "python3",
      "display_name": "Python 3"
    },
    "language_info": {
      "name": "python"
    }
  },
  "cells": [
    {
      "cell_type": "markdown",
      "metadata": {
        "id": "view-in-github",
        "colab_type": "text"
      },
      "source": [
        "<a href=\"https://colab.research.google.com/github/thesareen/Thapar-Summer-School-23/blob/main/Mini_Project_.ipynb\" target=\"_parent\"><img src=\"https://colab.research.google.com/assets/colab-badge.svg\" alt=\"Open In Colab\"/></a>"
      ]
    },
    {
      "cell_type": "markdown",
      "source": [
        "subset selection"
      ],
      "metadata": {
        "id": "T-xNfiaV7EvC"
      }
    },
    {
      "cell_type": "code",
      "source": [
        "#Find all the subsets from a set of numbers whose sum is zero\n",
        "#Constraint:Subset size must be 3 to 6 only\n",
        "import random as r\n",
        "Set={-12, -3, -6, 7, 2, -2, 6, 3, 9, -7, -5, -8, 1, 11, -9, -4}\n",
        "L=[]\n",
        "a=r.sample(Set,5)#{2,-8,-6,6,-3}\n",
        "print(a)\n",
        "\n",
        "s=sum(a)\n",
        "print(s)\n",
        "if s==0:\n",
        "    print(\"This is the required set\")\n",
        "    L.append(a)\n",
        "    print(a)\n",
        "    print(L)\n",
        "else:\n",
        "    print(\"This is not the required set, pls run the program again\")\n"
      ],
      "metadata": {
        "id": "MPek0Qb_7IGO"
      },
      "execution_count": null,
      "outputs": []
    },
    {
      "cell_type": "code",
      "source": [
        "#Find all the subsets from a set of numbers whose sum is zero\n",
        "#Constraint:Subset size must be 3 to 6 only\n",
        "import random as r\n",
        "Set={-12, -3, -6, 7, 2, -2, 6, 3, 9, -7, -5, -8, 1, 11, -9, -4}\n",
        "L=[]\n",
        "a=r.sample(Set,4)#range 3\n",
        "b=r.sample(Set,5)#range 4\n",
        "c=r.sample(Set,6)#range 5\n",
        "d=r.sample(Set,7)#range 6\n",
        "print(\"set with range 3:\",a)\n",
        "print(\"set with range 4:\",b)\n",
        "print(\"set with range 5:\",c)\n",
        "print(\"set with range 6:\",d)\n",
        "#range 3\n",
        "s=sum(a)\n",
        "print(s)\n",
        "if s==0:\n",
        "    print(\"This is the required set\")\n",
        "    L.append(a)\n",
        "    print(a)\n",
        "    print(L)\n",
        "else:\n",
        "    print(\"This is not the required set, pls run the program again\")\n",
        "#range 4\n",
        "s=sum(b)\n",
        "print(s)\n",
        "if s==0:\n",
        "    print(\"This is the required set\")\n",
        "    L.append(b)\n",
        "    print(b)\n",
        "    print(L)\n",
        "else:\n",
        "    print(\"This is not the required set, pls run the program again\")\n",
        "#range 5\n",
        "s=sum(c)\n",
        "print(s)\n",
        "if s==0:\n",
        "    print(\"This is the required set\")\n",
        "    L.append(c)\n",
        "    print(c)\n",
        "    print(L)\n",
        "else:\n",
        "    print(\"This is not the required set, pls run the program again\")\n",
        "#range 6\n",
        "s=sum(d)\n",
        "print(s)\n",
        "if s==0:\n",
        "    print(\"This is the required set\")\n",
        "    L.append(d)\n",
        "    print(d)\n",
        "    print(L)\n",
        "else:\n",
        "    print(\"This is not the required set, pls run the program again\")"
      ],
      "metadata": {
        "id": "zawoTnv64prF"
      },
      "execution_count": null,
      "outputs": []
    },
    {
      "cell_type": "markdown",
      "source": [
        "COMBO FINDER"
      ],
      "metadata": {
        "id": "xkowDekU7JkK"
      }
    },
    {
      "cell_type": "code",
      "source": [
        "pid=['p1','p2','p3','p4','p5']\n",
        "price=[64,88,152,93,76]\n",
        "output=[]\n",
        "i=1\n",
        "c=int(input(\"enter the number of products\"))#(elements in your list)\n",
        "while i<c+1:\n",
        "    a=int(input(\"enter the set index number you want \"))#p1\n",
        "    output.append(pid[a])\n",
        "    i+=1\n",
        "\n",
        "print(output)"
      ],
      "metadata": {
        "id": "osrDd30L7MF8"
      },
      "execution_count": null,
      "outputs": []
    }
  ]
}
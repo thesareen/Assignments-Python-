{
  "nbformat": 4,
  "nbformat_minor": 0,
  "metadata": {
    "colab": {
      "provenance": [],
      "authorship_tag": "ABX9TyPlijdKEbeCFoGvTNhU4cr0",
      "include_colab_link": true
    },
    "kernelspec": {
      "name": "python3",
      "display_name": "Python 3"
    },
    "language_info": {
      "name": "python"
    }
  },
  "cells": [
    {
      "cell_type": "markdown",
      "metadata": {
        "id": "view-in-github",
        "colab_type": "text"
      },
      "source": [
        "<a href=\"https://colab.research.google.com/github/thesareen/Thapar-Summer-School-23/blob/main/Liza_one.ipynb\" target=\"_parent\"><img src=\"https://colab.research.google.com/assets/colab-badge.svg\" alt=\"Open In Colab\"/></a>"
      ]
    },
    {
      "cell_type": "markdown",
      "source": [
        "**PYTHON -ASSIGNMENT 1**\n",
        "\n",
        "**STUDENT:LIZA SAREEN**\n",
        "\n",
        "\n",
        "\n",
        "\n"
      ],
      "metadata": {
        "id": "J139THYaBmV3"
      }
    },
    {
      "cell_type": "code",
      "source": [
        "#QUESTION 1 ALL PARTS\n",
        "L=[11,12,13,14]\n",
        "L.append(50)\n",
        "L.append(60)\n",
        "print(L)#(i)\n",
        "del L[1]\n",
        "del L[2]\n",
        "print(L)#(ii)\n",
        "print(L.sort())#(iii)\n",
        "L.sort(reverse=True)\n",
        "print(L)#(iv)\n",
        "print(\"13 in list\",13 in L)#v\n",
        "print(len(L))#vi\n",
        "print(sum(L))#vii\n",
        "s=0\n",
        "for i in L:\n",
        "    if(i%2==0):\n",
        "        s=s+i\n",
        "    print(s)\n",
        "\n",
        "f=0\n",
        "for i in L:\n",
        "    if(i%2!=0):\n",
        "        f=f+i\n",
        "        print(f)\n",
        "q=0\n",
        "for n in L:\n",
        "    for i in range(2, n//2 + 1):\n",
        "        if  n % i == 0:\n",
        "            f=1\n",
        "            break\n",
        "\n",
        "if f==0:\n",
        "    print (\"Prime\")\n",
        "else:\n",
        "    print (\"Not Prime\")\n",
        "L.clear()\n",
        "print(L)\n",
        "del L\n",
        "\n"
      ],
      "metadata": {
        "colab": {
          "base_uri": "https://localhost:8080/"
        },
        "id": "6xQ-UbhEPPML",
        "outputId": "ff4628fa-7a16-4d48-efaf-cb46a4273f27"
      },
      "execution_count": null,
      "outputs": [
        {
          "output_type": "stream",
          "name": "stdout",
          "text": [
            "[11, 12, 13, 14, 50, 60]\n",
            "[11, 13, 50, 60]\n",
            "None\n",
            "[60, 50, 13, 11]\n",
            "13 in list True\n",
            "4\n",
            "134\n",
            "60\n",
            "110\n",
            "110\n",
            "110\n",
            "13\n",
            "24\n",
            "Not Prime\n",
            "[]\n"
          ]
        }
      ]
    },
    {
      "cell_type": "code",
      "source": [
        "#QUESTION 2 ALL PARTS\n",
        "D= {1:5.6, 2:7.8, 3:6.6, 4:8.7, 5:7.7}\n",
        "D[8]=8.8\n",
        "print(D)\n",
        "del D[2]\n",
        "print(D)\n",
        "print(\" 6 key is present in D\", 6 in D)\n",
        "print(len(D))\n",
        "print(sum(D))\n",
        "D[3]=7.1\n",
        "print(D)\n",
        "D.clear()\n",
        "print(D)"
      ],
      "metadata": {
        "id": "IB09vz76VvYB"
      },
      "execution_count": null,
      "outputs": []
    },
    {
      "cell_type": "code",
      "source": [
        "#QUESTION 3 ALL PARTS\n",
        "S1= {10, 20, 30, 40, 50, 60}\n",
        "S2= {40, 50, 60, 70, 80, 90}\n",
        "S1.add(55)\n",
        "S1.add(66)\n",
        "print(S1)\n",
        "S1.remove(10)\n",
        "S1.remove(30)\n",
        "print(S1)\n",
        "print(\"40 is present in S1\",40 in S1)\n",
        "print(\"union of S1 and S2\",S1.union(S2))\n",
        "print(\"intersection of S1 and S2\",S1.intersection(S2))\n",
        "print(\"S1-S2\",S1-S2)\n"
      ],
      "metadata": {
        "id": "nbiNEmw_YzRz"
      },
      "execution_count": null,
      "outputs": []
    },
    {
      "cell_type": "code",
      "source": [
        "#QUESTION 4 ALL PARTS\n",
        "import random as r\n",
        "import string as s\n",
        "print(s.ascii_letters+s.ascii_letters)\n",
        "a=r.sample(s.ascii_letters+s.ascii_letters,100)\n",
        "#print(a)\n",
        "#b=''.join(r.sample((a),for i in range(6,9)))\n",
        "b=''.join(r.choice(a) for i in range(0,9))#8 letter\n",
        "c=''.join(r.choice(a) for i in range(0,7))#6 letter\n",
        "d=''.join(r.choice(a) for i in range(0,8))#7 letter\n",
        "print(b)\n",
        "print(c)\n",
        "print(d)"
      ],
      "metadata": {
        "id": "59Uurn9aC7sj"
      },
      "execution_count": null,
      "outputs": []
    },
    {
      "cell_type": "code",
      "source": [
        "#QUESTION 4\n",
        "#WAP to print all prime numbers between 600 and 800\n",
        "def prime(no):\n",
        "    if no < 2:\n",
        "        return False\n",
        "    for i in range(2, int(no//2) + 1):\n",
        "        if no % i == 0:\n",
        "            return False\n",
        "    return True\n",
        "\n",
        "for n in range(600, 801):\n",
        "    if prime(n):\n",
        "        a=print(n)\n",
        "\n",
        "#print(list(a))"
      ],
      "metadata": {
        "id": "kPJ9THquLx-U"
      },
      "execution_count": null,
      "outputs": []
    },
    {
      "cell_type": "code",
      "source": [
        "#QUESTION 4\n",
        "def check(num):\n",
        "    if(num%63==0):\n",
        "        print(num)\n",
        "        return 1\n",
        "    else:\n",
        "        return 0\n",
        "\n",
        "for n in range(100,1001):\n",
        "    if(check(n)==1):\n",
        "        print(n)"
      ],
      "metadata": {
        "id": "khlMOBtt97Ke"
      },
      "execution_count": null,
      "outputs": []
    },
    {
      "cell_type": "code",
      "source": [
        "#WAP to create two lists of 10 random numbers between 10 and 30; \n",
        "#WAP to create two lists of 10 random numbers between 10 and 30;\n",
        "import random as r\n",
        "L1=[]\n",
        "L2=[]\n",
        "for i in range(11):\n",
        "    a=r.randint(10,30)\n",
        "    L1.append(a)\n",
        "    b=r.randint(10,30)\n",
        "    L2.append(b)\n",
        "\n",
        "print(\"List 1: \",L1)\n",
        "print(\"List 2: \",L2)\n"
      ],
      "metadata": {
        "id": "OKQXR2I3A_Dw"
      },
      "execution_count": null,
      "outputs": []
    },
    {
      "cell_type": "code",
      "source": [
        "#Common numbers in the two lists\n",
        "import random as r\n",
        "L1=[]\n",
        "L2=[]\n",
        "for i in range(11):\n",
        "    a=r.randint(10,30)\n",
        "    L1.append(a)\n",
        "    b=r.randint(10,30)\n",
        "    L2.append(b)\n",
        "\n",
        "print(\"List 1: \",L1)\n",
        "print(\"List 2: \",L2)\n",
        "a=set(L1)\n",
        "print(a)\n",
        "b=set(L2)\n",
        "print(b)\n",
        "print(\"common element is : \",a.intersection(b))\n",
        "print(\"unique element is : \",a.intersection(b))\n",
        "c=a.union(b)\n",
        "print(\"minimum in both lists: \",min(c))\n",
        "print(\"maximum in both lists: \",max(c))\n",
        "#print(\"sum of both the lists: \",sum(L1,L2))\n",
        "s=0\n",
        "t=0\n",
        "for x in L1:\n",
        "    for y in L2:\n",
        "        s=x+y\n",
        "        t=t+s\n",
        "        print(t)#doubt"
      ],
      "metadata": {
        "id": "pQ_WciurDEwF"
      },
      "execution_count": null,
      "outputs": []
    },
    {
      "cell_type": "code",
      "source": [
        "##WAP to create a list of 100 random numbers between 100 and 900.\n",
        "\n",
        "import random as r\n",
        "L=[]\n",
        "L1=[]\n",
        "L2=[]\n",
        "L3=[]\n",
        "for i in range(100):\n",
        "    a=r.randint(100,900)\n",
        "    L.append(a)\n",
        "print(L,\"\\n\")\n",
        "\n",
        "def odd(num):\n",
        "    if(num%2!=0):\n",
        "        return 1\n",
        "count=0\n",
        "for i in L:\n",
        "    if(odd(i)==1):\n",
        "        L1.append(i)\n",
        "        count=count+1\n",
        "print(\"odd no:\",L1)\n",
        "print(\"no of odd numbers: \",count)\n",
        "#even numbers\n",
        "del count\n",
        "def even(num):\n",
        "    if(num%2==0):\n",
        "        return 1\n",
        "count=0\n",
        "for i in L:\n",
        "    if(even(i)==1):\n",
        "        L2.append(i)\n",
        "        count=count+1\n",
        "print(\"even no:\",L2)\n",
        "print(\"no of even numbers: \",count)\n",
        "#prime numbers\n",
        "del count\n",
        "count=0\n",
        "def prime(n):\n",
        "    for s in range(2, n//2 + 1):\n",
        "        if n%s==0:\n",
        "            return 0\n",
        "    return 1\n",
        "\n",
        "for i in L:\n",
        "    if prime(i) == 1:#important\n",
        "        L3.append(i)\n",
        "        count=count+1\n",
        "print(\"prime numbers are :\",count)\n",
        "print(\"prime no:\",L3)"
      ],
      "metadata": {
        "id": "MuBRUHZfGkuT"
      },
      "execution_count": null,
      "outputs": []
    },
    {
      "cell_type": "code",
      "source": [
        "# D is a dictionary defined as D={1:\"One\",2:\"Two\",3:\"Three\",4:\"Four\", 5:\"Five\"}\n",
        "D={1:\"One\",2:\"Two\",3:\"Three\",4:\"Four\", 5:\"Five\"}\n",
        "print(\"keys:\",D.keys())\n",
        "print(\"values:\",D.values())\n",
        "a=list(D.keys())\n",
        "print(a)\n",
        "b=list(D.values())\n",
        "print(b)\n",
        "fp=open(\"file.txt\",'w')#imp\n",
        "for i in a:\n",
        "    for j in b:\n",
        "        fp.write(str(i)+\"\\n\")\n",
        "        fp.write(str(j)+\"\\n\")\n",
        "fp.close()\n"
      ],
      "metadata": {
        "id": "lJIYpkTCRMpy"
      },
      "execution_count": null,
      "outputs": []
    },
    {
      "cell_type": "code",
      "source": [
        "#L is a list defined as L={\"One\",\"Two\",\"Three\",\"Four\",\"Five\"}\n",
        "L=[\"One\",\"Two\",\"Three\",\"Four\",\"Five\"]\n",
        "L1=[]\n",
        "import string as s\n",
        "print(\"length of element 1 in string :\" ,len(L[0]))\n",
        "print(\"length of element 2 in string :\" ,len(L[1]))\n",
        "print(\"length of element 3 in string :\" ,len(L[2]))\n",
        "print(\"length of element 4 in string :\" ,len(L[3]))\n",
        "print(\"length of element 5 in string :\" ,len(L[4]))\n",
        "L1.append(len(L[0]))\n",
        "L1.append(len(L[1]))\n",
        "L1.append(len(L[2]))\n",
        "L1.append(len(L[3]))\n",
        "L1.append(len(L[4]))\n",
        "D={}\n",
        "D[\"One\"]=3\n",
        "D[\"Two\"]=3\n",
        "D[\"Four\"]=4\n",
        "print(D)\n",
        "fp=open(\"one.text\",'w')\n",
        "for i in D:\n",
        "    fp.write(str(i)+\"\\n\")\n",
        "fp.close()"
      ],
      "metadata": {
        "id": "9V6qBCrtUxZz"
      },
      "execution_count": null,
      "outputs": []
    },
    {
      "cell_type": "code",
      "source": [
        "#Write to the file 100 random strings whose length between 10 and 15#\n",
        "import random as r\n",
        "import string as s\n",
        "\n",
        "def random(length):\n",
        "    letters = s.ascii_letters\n",
        "    return ''.join(r.choice(letters) for _ in range(length))\n",
        "\n",
        "\n",
        "with open(\"random_strings.txt\", \"w\") as file:\n",
        "    \n",
        "    for _ in range(100):\n",
        "        length = r.randint(10, 15)\n",
        "        random_string = random(length)\n",
        "        # Write the random string to the file\n",
        "        file.write(random_string + '\\n')"
      ],
      "metadata": {
        "id": "0I5TmxpyU37G"
      },
      "execution_count": null,
      "outputs": []
    },
    {
      "cell_type": "code",
      "source": [
        "#Write to the file all prime numbers between 600 and 800\n",
        "#Write to the file all prime numbers between 600 and 800\n",
        "L=[]\n",
        "def prime(num):\n",
        "    for i in range(2, num//2 + 1):\n",
        "        if  num % i == 0:\n",
        "            return 1\n",
        "            print (\"Not Prime\")\n",
        "            break\n",
        "\n",
        "\n",
        "for n in range(600,801):\n",
        "    if(prime(n)==1):\n",
        "        L.append(n)\n",
        "print(L)\n",
        "fp=open(\"file.txt\",'w')\n",
        "for i in L:\n",
        "    fp.write(str(i)+'\\n')\n",
        "fp.close()"
      ],
      "metadata": {
        "id": "TycAyQMtYOSx"
      },
      "execution_count": null,
      "outputs": []
    },
    {
      "cell_type": "code",
      "source": [
        "#WAP to calculate the time taken by a program\n",
        "#WAP to calculate the time taken by a program\n",
        "import time\n",
        "starting_time=time.time()\n",
        "print(\"hello world\")\n",
        "ending_time=time.time()\n",
        "remain_time=ending_time-starting_time\n",
        "print(\"The time taken=\",remain_time)"
      ],
      "metadata": {
        "id": "1pz8eabUZsGM"
      },
      "execution_count": null,
      "outputs": []
    },
    {
      "cell_type": "code",
      "source": [
        "#WAP to sort following number of elements in a list, calculate time taken and plot the graph\n",
        "L1=[]\n",
        "L2=[]\n",
        "L3=[]\n",
        "L4=[]\n",
        "L5=[]\n",
        "len(L1)=5000\n",
        "len(L2)=10000\n",
        "len(L3)=15000\n",
        "len(L4)=20000\n",
        "len(L5)=25000\n",
        "import time\n",
        "starting_time=time.time()\n",
        "print(\"hello world\")\n",
        "ending_time=time.time()\n",
        "remain_time=ending_time-starting_time\n",
        "print(\"The time taken=\",remain_time)"
      ],
      "metadata": {
        "id": "6PGIz7QZabEP"
      },
      "execution_count": null,
      "outputs": []
    },
    {
      "cell_type": "code",
      "source": [
        "#WAP to create a dictionary of student marks in five subjects and you have to find the student \n",
        " #having maximum and minimum average marks\n",
        " #doubt question\n",
        " def find_max_min_average(student_marks):\n",
        "    max_average = float('-inf')\n",
        "    min_average = float('inf')\n",
        "    max_student = ''\n",
        "    min_student = ''\n",
        "\n",
        "    for student, marks in student_marks.items():\n",
        "        average = sum(marks) / len(marks)\n",
        "        if average > max_average:\n",
        "            max_average = average\n",
        "            max_student = student\n",
        "        if average < min_average:\n",
        "            min_average = average\n",
        "            min_student = student\n",
        "\n",
        "    return max_student, min_student\n",
        "\n",
        "# Create a dictionary of student marks\n",
        "student_marks = {\n",
        "    'John': [80, 85, 90, 95, 92],\n",
        "    'Emily': [75, 82, 88, 91, 79],\n",
        "    'Daniel': [90, 92, 86, 89, 94],\n",
        "    'Sarah': [87, 84, 91, 88, 90]\n",
        "}\n",
        "\n",
        "# Find the student with the maximum and minimum average marks\n",
        "max_student, min_student = find_max_min_average(student_marks)\n",
        "\n",
        "# Print the results\n",
        "print(\"Student with the maximum average marks:\", max_student)\n",
        "print(\"Student with the minimum average marks:\", min_student)\n"
      ],
      "metadata": {
        "id": "3N2VYcTNbLRI"
      },
      "execution_count": null,
      "outputs": []
    }
  ]
}